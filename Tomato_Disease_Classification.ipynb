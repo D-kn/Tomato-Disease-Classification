{
 "cells": [
  {
   "cell_type": "markdown",
   "id": "b84b49cc",
   "metadata": {},
   "source": [
    "## 1. Packages importation"
   ]
  },
  {
   "cell_type": "code",
   "execution_count": 1,
   "id": "13bab93a",
   "metadata": {},
   "outputs": [],
   "source": [
    "import matplotlib.pyplot as plt\n",
    "import torch\n",
    "import torch.nn as nn\n",
    "from torch.utils.data import DataLoader, random_split\n",
    "from torch.optim import Adam\n",
    "import torchvision\n",
    "from torchvision import transforms\n",
    "import time\n",
    "from tqdm import tqdm"
   ]
  },
  {
   "cell_type": "markdown",
   "id": "7fde8f8f",
   "metadata": {},
   "source": [
    "## 2. Dataset importation "
   ]
  },
  {
   "cell_type": "code",
   "execution_count": 2,
   "id": "7f772958",
   "metadata": {},
   "outputs": [],
   "source": [
    "# \n",
    "train_path = './tomato_custom/train'\n",
    "test_path = './tomato_custom/val'"
   ]
  },
  {
   "cell_type": "code",
   "execution_count": 3,
   "id": "ab4302ff",
   "metadata": {},
   "outputs": [],
   "source": [
    "# define hyperparameters\n",
    "BATCH_SIZE = 64\n",
    "TRAIN_SPLIT = 0.90\n",
    "VAL_SPLIT = 1 - TRAIN_SPLIT"
   ]
  },
  {
   "cell_type": "code",
   "execution_count": 8,
   "id": "3f3d42bd",
   "metadata": {},
   "outputs": [],
   "source": [
    "# dataset transformation\n",
    "transform = transforms.Compose([\n",
    "    transforms.Resize(64),\n",
    "    transforms.ToTensor(), \n",
    "    transforms.Normalize(mean=[0.4518, 0.4638, 0.4118],\n",
    "                         std=[0.1836, 0.1602, 0.1991]\n",
    ")])"
   ]
  },
  {
   "cell_type": "code",
   "execution_count": 12,
   "id": "d47e668c",
   "metadata": {},
   "outputs": [],
   "source": [
    "# Load the Dataset\n",
    "initial_data = torchvision.datasets.ImageFolder(\n",
    "                                                root=train_path,\n",
    "                                                transform=transform\n",
    "                                                )\n",
    "test_data = torchvision.datasets.ImageFolder(\n",
    "                                            root=test_path, \n",
    "                                            transform=transform\n",
    "                                            )"
   ]
  },
  {
   "cell_type": "code",
   "execution_count": 13,
   "id": "28610188",
   "metadata": {},
   "outputs": [
    {
     "name": "stdout",
     "output_type": "stream",
     "text": [
      "6691 806\n"
     ]
    }
   ],
   "source": [
    "print(len(initial_data), len(test_data))"
   ]
  },
  {
   "cell_type": "code",
   "execution_count": 25,
   "id": "ed6d492a",
   "metadata": {},
   "outputs": [],
   "source": [
    "# split initial data\n",
    "len_init = len(initial_data) -1\n",
    "train_len = int(len_init * TRAIN_SPLIT)\n",
    "val_len = int(len_init * VAL_SPLIT) + 2\n",
    "train_data, val_data = random_split(initial_data, [train_len, val_len], \n",
    "                                    generator=torch.Generator().manual_seed(42))"
   ]
  },
  {
   "cell_type": "code",
   "execution_count": 26,
   "id": "c8b59658",
   "metadata": {},
   "outputs": [],
   "source": [
    "train_loader = DataLoader(\n",
    "                          train_data, \n",
    "                          batch_size=BATCH_SIZE,\n",
    "                          shuffle=True\n",
    "                         )\n",
    "\n",
    "test_loader = DataLoader(\n",
    "                          test_data, \n",
    "                          batch_size=BATCH_SIZE,\n",
    "                          shuffle=False\n",
    "                         )\n",
    "\n",
    "val_loader = DataLoader(\n",
    "                          val_data, \n",
    "                          batch_size=BATCH_SIZE,\n",
    "                          shuffle=False\n",
    "                         )"
   ]
  },
  {
   "cell_type": "code",
   "execution_count": 27,
   "id": "d79ef951",
   "metadata": {},
   "outputs": [],
   "source": [
    "# Define an epoch step for a training\n",
    "train_steps = len(train_loader.dataset) // BATCH_SIZE\n"
   ]
  },
  {
   "cell_type": "code",
   "execution_count": 29,
   "id": "6bd55123",
   "metadata": {},
   "outputs": [
    {
     "name": "stdout",
     "output_type": "stream",
     "text": [
      "94 10\n"
     ]
    }
   ],
   "source": [
    "print(train_steps, val_tests)"
   ]
  },
  {
   "cell_type": "markdown",
   "id": "b6730e9a",
   "metadata": {},
   "source": [
    "## 3. Define the model"
   ]
  },
  {
   "cell_type": "code",
   "execution_count": null,
   "id": "286ba548",
   "metadata": {},
   "outputs": [],
   "source": [
    "class TomatoDiseaseCNN(nn.Module):\n",
    "    '''\n",
    "    '''\n",
    "    def __init__(self, in_channels=3, num_classes=10):\n",
    "        super(TomatoDiseaseCNN, self).__init__()\n",
    "        self.conv1 = nn.conv2d(in_channels=3, out_channels=32, kernel_size=3, stride=1, padding=1)\n",
    "        self.act1 = nn.ReLU()\n",
    "        self.pool1 = nn.MaxPool2d(kernel_size=2)\n",
    "        self.conv2 = nn.conv2d(in_channels=32, out_channels=64, kernel_size=3, stride=1, padding=1)\n",
    "        self.act2 = nn.ReLU()\n",
    "        self.pool2 = nn.MaxPool2d(kernel_size=2)\n",
    "        self.conv3 = nn.conv2d(in_channels=64, out_channels=128, kernel_size=3, stride=1, padding=1)\n",
    "        self.act3 = nn.ReLU()\n",
    "        self.pool3 = nn.MaxPool2d(kernel_size=2)\n",
    "        self.fc1 = nn.Linear(128*8*8, 256)\n",
    "        self.act4 = nn.ReLU()\n",
    "        self.fc2 = nn.Linear(256, num_classes)\n",
    "        self.act5 = nn.Softmax(dim=1)\n",
    "    \n",
    "    def forward(self, x):\n",
    "        x= self.Conv1(x)\n",
    "        x= self.act1(x)\n",
    "        x = self.pool1(x)\n",
    "        "
   ]
  },
  {
   "cell_type": "code",
   "execution_count": null,
   "id": "e19a434a",
   "metadata": {},
   "outputs": [],
   "source": []
  },
  {
   "cell_type": "code",
   "execution_count": null,
   "id": "8cd1b99a",
   "metadata": {},
   "outputs": [],
   "source": []
  },
  {
   "cell_type": "code",
   "execution_count": null,
   "id": "495ebc5d",
   "metadata": {},
   "outputs": [],
   "source": []
  },
  {
   "cell_type": "markdown",
   "id": "6b836085",
   "metadata": {},
   "source": [
    "preparer le modele: mettre dataset sous forme de tensors\n",
    "definir le modele\n",
    "entrainer le modele\n",
    "evaluer le modele\n",
    "deployer le modele"
   ]
  }
 ],
 "metadata": {
  "kernelspec": {
   "display_name": "Python 3",
   "language": "python",
   "name": "python3"
  },
  "language_info": {
   "codemirror_mode": {
    "name": "ipython",
    "version": 3
   },
   "file_extension": ".py",
   "mimetype": "text/x-python",
   "name": "python",
   "nbconvert_exporter": "python",
   "pygments_lexer": "ipython3",
   "version": "3.8.8"
  }
 },
 "nbformat": 4,
 "nbformat_minor": 5
}
